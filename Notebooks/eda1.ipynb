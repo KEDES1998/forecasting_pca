{
 "cells": [
  {
   "cell_type": "code",
   "id": "initial_id",
   "metadata": {
    "collapsed": true,
    "ExecuteTime": {
     "end_time": "2025-04-21T15:11:32.200028Z",
     "start_time": "2025-04-21T15:11:31.611843Z"
    }
   },
   "source": [
    "\n",
    "import pandas as pd\n",
    "import matplotlib.pyplot as plt\n",
    "import matplotlib.dates as mdates\n",
    "import os\n",
    "from pathlib import Path\n",
    "import openpyxl\n",
    "from IPython.core.debugger import prompt\n"
   ],
   "outputs": [],
   "execution_count": 1
  },
  {
   "metadata": {
    "ExecuteTime": {
     "end_time": "2025-04-21T15:11:33.568489Z",
     "start_time": "2025-04-21T15:11:33.564558Z"
    }
   },
   "cell_type": "code",
   "source": [
    "# Project root\n",
    "notebook_path = Path().resolve()  # Absoluter Pfad des aktuellen Notebooks\n",
    "print(f\"Notebook-Pfad: {notebook_path}\")\n",
    "\n",
    "project_root = notebook_path.parent.parent  # Zwei Ebenen höher\n",
    "print(f\"Projektroot: {project_root}\")\n",
    "\n",
    "DATA_RAW = project_root / \"forecasting_pca\" / \"data\" / \"raw\" / \"Macro_series_FS25.xlsx\"\n",
    "print(f\"DATA_RAW: {DATA_RAW}\")\n"
   ],
   "id": "e0599081e9b901f2",
   "outputs": [
    {
     "name": "stdout",
     "output_type": "stream",
     "text": [
      "Notebook-Pfad: /Users/kevindesilva/Documents/Git_Repo/forecasting_pca/Notebooks\n",
      "Projektroot: /Users/kevindesilva/Documents/Git_Repo\n",
      "DATA_RAW: /Users/kevindesilva/Documents/Git_Repo/forecasting_pca/data/raw/Macro_series_FS25.xlsx\n"
     ]
    }
   ],
   "execution_count": 2
  },
  {
   "metadata": {
    "ExecuteTime": {
     "end_time": "2025-04-21T15:11:37.059533Z",
     "start_time": "2025-04-21T15:11:36.975475Z"
    }
   },
   "cell_type": "code",
   "source": "df = pd.read_excel(DATA_RAW, sheet_name=0)",
   "id": "3885549e009f3485",
   "outputs": [],
   "execution_count": 3
  },
  {
   "metadata": {},
   "cell_type": "code",
   "outputs": [],
   "execution_count": null,
   "source": [
    "print(\"\\nFirst 5 Rows of the Dataset:\")\n",
    "print(df.head())\n",
    "print(df.info)"
   ],
   "id": "6fdb056e0894efe2"
  },
  {
   "metadata": {},
   "cell_type": "code",
   "outputs": [],
   "execution_count": null,
   "source": [
    "print(\"Dataset Summary Statistics:\")\n",
    "print(df.describe())"
   ],
   "id": "3165ed2c7287d72d"
  },
  {
   "metadata": {
    "ExecuteTime": {
     "end_time": "2025-04-21T15:12:05.161138Z",
     "start_time": "2025-04-21T15:12:05.140073Z"
    }
   },
   "cell_type": "code",
   "source": [
    "print(\"\\nDataset Column Information:\")\n",
    "df.info()\n"
   ],
   "id": "5b64539014e5b089",
   "outputs": [
    {
     "name": "stdout",
     "output_type": "stream",
     "text": [
      "\n",
      "Dataset Column Information:\n",
      "<class 'pandas.core.frame.DataFrame'>\n",
      "RangeIndex: 133 entries, 0 to 132\n",
      "Columns: 141 entries, Unnamed: 0 to wd\n",
      "dtypes: object(141)\n",
      "memory usage: 146.6+ KB\n"
     ]
    }
   ],
   "execution_count": 4
  },
  {
   "metadata": {
    "ExecuteTime": {
     "end_time": "2025-04-19T19:28:41.353873Z",
     "start_time": "2025-04-19T19:28:41.349885Z"
    }
   },
   "cell_type": "code",
   "source": "plt.close('all')",
   "id": "6fb3ec8f6cca4f32",
   "outputs": [],
   "execution_count": 13
  }
 ],
 "metadata": {
  "kernelspec": {
   "display_name": "Python 3",
   "language": "python",
   "name": "python3"
  },
  "language_info": {
   "codemirror_mode": {
    "name": "ipython",
    "version": 2
   },
   "file_extension": ".py",
   "mimetype": "text/x-python",
   "name": "python",
   "nbconvert_exporter": "python",
   "pygments_lexer": "ipython2",
   "version": "2.7.6"
  }
 },
 "nbformat": 4,
 "nbformat_minor": 5
}
