{
 "cells": [
  {
   "cell_type": "code",
   "id": "initial_id",
   "metadata": {
    "collapsed": true,
    "ExecuteTime": {
     "end_time": "2025-04-13T16:38:06.908698Z",
     "start_time": "2025-04-13T16:38:06.888365Z"
    }
   },
   "source": [
    "import pandas as pd\n",
    "import matplotlib.pyplot as plt\n",
    "import matplotlib.dates as mdates\n",
    "import os\n",
    "from pathlib import Path\n",
    "import openpyxl\n",
    "from IPython.core.debugger import prompt\n"
   ],
   "outputs": [],
   "execution_count": 8
  },
  {
   "metadata": {
    "ExecuteTime": {
     "end_time": "2025-04-13T16:40:08.777177Z",
     "start_time": "2025-04-13T16:40:08.768724Z"
    }
   },
   "cell_type": "code",
   "source": [
    "# Project root\n",
    "notebook_path = Path().resolve()  # Absoluter Pfad des aktuellen Notebooks\n",
    "print(f\"Notebook-Pfad: {notebook_path}\")\n",
    "\n",
    "project_root = notebook_path.parent.parent  # Zwei Ebenen höher\n",
    "print(f\"Projektroot: {project_root}\")\n",
    "\n",
    "DATA_RAW = project_root / \"forecasting_pca\" / \"data\" / \"raw\" / \"Macro_series_FS25.xlsx\"\n",
    "print(f\"DATA_RAW: {DATA_RAW}\")\n"
   ],
   "id": "e0599081e9b901f2",
   "outputs": [
    {
     "name": "stdout",
     "output_type": "stream",
     "text": [
      "Notebook-Pfad: /Users/kevindesilva/Documents/Git_Repo/forecasting_pca/Notebooks\n",
      "Projektroot: /Users/kevindesilva/Documents/Git_Repo\n",
      "DATA_RAW: /Users/kevindesilva/Documents/Git_Repo/forecasting_pca/data/raw/Macro_series_FS25.xlsx\n"
     ]
    }
   ],
   "execution_count": 12
  },
  {
   "metadata": {
    "ExecuteTime": {
     "end_time": "2025-04-13T16:57:02.504054Z",
     "start_time": "2025-04-13T16:57:02.373025Z"
    }
   },
   "cell_type": "code",
   "source": "df = pd.read_excel(DATA_RAW, sheet_name=0)",
   "id": "3885549e009f3485",
   "outputs": [],
   "execution_count": 24
  },
  {
   "metadata": {
    "ExecuteTime": {
     "end_time": "2025-04-13T16:57:36.941044Z",
     "start_time": "2025-04-13T16:57:36.926482Z"
    }
   },
   "cell_type": "code",
   "source": [
    "print(\"\\nFirst 5 Rows of the Dataset:\")\n",
    "print(df.head())"
   ],
   "id": "4082d3786c059a2c",
   "outputs": [
    {
     "name": "stdout",
     "output_type": "stream",
     "text": [
      "\n",
      "First 5 Rows of the Dataset:\n",
      "  Unnamed: 0                                                vaa  \\\n",
      "0        NaN  Wertschöpfung, Land-, Forstwirtschaft und Fisc...   \n",
      "1    1992 Q1                                        1353.921294   \n",
      "2    1992 Q2                                        1365.306005   \n",
      "3    1992 Q3                                        1364.926346   \n",
      "4    1992 Q4                                         1358.29011   \n",
      "\n",
      "                                                 vab  \\\n",
      "0  Wertschöpfung, Bergbau und Gewinnung von Stein...   \n",
      "1                                         203.126892   \n",
      "2                                         193.994959   \n",
      "3                                         188.866904   \n",
      "4                                         188.178178   \n",
      "\n",
      "                                          vacon19_21  \\\n",
      "0  Wertschöpfung, Verarbeitendes Gewerbe/Herstell...   \n",
      "1                                        19518.90963   \n",
      "2                                        19338.73499   \n",
      "3                                       19051.600618   \n",
      "4                                       18557.625107   \n",
      "\n",
      "                                            van19_21  \\\n",
      "0  Wertschöpfung, Verarbeitendes Gewerbe/Herstell...   \n",
      "1                                        1126.795603   \n",
      "2                                        1126.101168   \n",
      "3                                        1121.637686   \n",
      "4                                        1131.368199   \n",
      "\n",
      "                                                vade  \\\n",
      "0  Wertschöpfung, Energie- und Wasserversorgung, ...   \n",
      "1                                         3523.73999   \n",
      "2                                        3564.727787   \n",
      "3                                        3578.542588   \n",
      "4                                        3559.742774   \n",
      "\n",
      "                             vaf  \\\n",
      "0  Wertschöpfung, Baugewerbe/Bau   \n",
      "1                    9124.594968   \n",
      "2                    9070.075498   \n",
      "3                    8972.729916   \n",
      "4                     9003.99912   \n",
      "\n",
      "                                             vagon47  \\\n",
      "0  Wertschöpfung, Handel; Instanthaltung und Repa...   \n",
      "1                                       11424.312571   \n",
      "2                                       11562.908046   \n",
      "3                                       11332.003339   \n",
      "4                                       11088.791732   \n",
      "\n",
      "                                               van47  \\\n",
      "0  Wertschöpfung, Handel; Instanthaltung und Repa...   \n",
      "1                                        4503.541476   \n",
      "2                                        4498.048466   \n",
      "3                                        4501.827366   \n",
      "4                                        4482.871098   \n",
      "\n",
      "                                                vahj  ...  \\\n",
      "0  Wertschöpfung, Verkehr und Lagerei; Informatio...  ...   \n",
      "1                                       10455.536227  ...   \n",
      "2                                       10433.136209  ...   \n",
      "3                                       10314.197415  ...   \n",
      "4                                        10210.99792  ...   \n",
      "\n",
      "                        pop                   srate_ge  \\\n",
      "0  Ständige Wohnbevölkerung  Kurzfristzins Deutschland   \n",
      "1               6848.678312                   9.637689   \n",
      "2               6867.247026                   9.785049   \n",
      "3               6884.619005                   9.673747   \n",
      "4               6900.909657                   8.931587   \n",
      "\n",
      "                    lrate_ge                hlthins                  wkfreuro  \\\n",
      "0  Langfristzins Deutschland  Krankenkassenpraemien  Franken Euro Wechselkurs   \n",
      "1                       7.94            1814.423678                   1.83553   \n",
      "2                   8.013333            1856.916981                  1.877177   \n",
      "3                   7.863333            1912.083206                  1.805588   \n",
      "4                        7.3            1977.331541                  1.758276   \n",
      "\n",
      "                    lfpot          ygov                     ybbu  \\\n",
      "0  Arbeitskräftepotential  Nettosteuern  Bruttobetriebsüberschus   \n",
      "1             3832.424499           NaN                      NaN   \n",
      "2             3841.295772           NaN                      NaN   \n",
      "3             3849.240662           NaN                      NaN   \n",
      "4             3856.323218           NaN                      NaN   \n",
      "\n",
      "                 poilusd                                                 wd  \n",
      "0  Erölpreis, Brent, USD  Welt BIP, aggregiert mit schweizer Exportgewic...  \n",
      "1              17.943354                                   29653867819.4772  \n",
      "2              19.984149                                 29658921401.075401  \n",
      "3              20.081539                                   29721362926.9702  \n",
      "4              19.209281                                 29756763261.672501  \n",
      "\n",
      "[5 rows x 141 columns]\n"
     ]
    }
   ],
   "execution_count": 25
  },
  {
   "metadata": {},
   "cell_type": "code",
   "outputs": [],
   "execution_count": null,
   "source": [
    "print(\"Dataset Summary Statistics:\")\n",
    "print(df.describe())"
   ],
   "id": "529e1f6505ca4d11"
  },
  {
   "metadata": {},
   "cell_type": "code",
   "outputs": [],
   "execution_count": null,
   "source": [
    "print(\"\\nDataset Column Information:\")\n",
    "df.info()\n"
   ],
   "id": "a83aa9e33b3a9ec5"
  }
 ],
 "metadata": {
  "kernelspec": {
   "display_name": "Python 3",
   "language": "python",
   "name": "python3"
  },
  "language_info": {
   "codemirror_mode": {
    "name": "ipython",
    "version": 2
   },
   "file_extension": ".py",
   "mimetype": "text/x-python",
   "name": "python",
   "nbconvert_exporter": "python",
   "pygments_lexer": "ipython2",
   "version": "2.7.6"
  }
 },
 "nbformat": 4,
 "nbformat_minor": 5
}
